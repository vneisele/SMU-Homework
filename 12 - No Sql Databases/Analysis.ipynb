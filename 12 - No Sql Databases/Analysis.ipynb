{
 "cells": [
  {
   "cell_type": "markdown",
   "id": "0694e00d",
   "metadata": {},
   "source": [
    "# Eat Safe, Love"
   ]
  },
  {
   "cell_type": "markdown",
   "id": "84d30143",
   "metadata": {},
   "source": [
    "## Notebook Set Up"
   ]
  },
  {
   "cell_type": "code",
   "execution_count": 1,
   "id": "021c094f",
   "metadata": {},
   "outputs": [],
   "source": [
    "# Import dependencies\n",
    "from pymongo import MongoClient\n",
    "from pprint import pprint\n",
    "import pandas as pd\n",
    "import matplotlib.pyplot as plt"
   ]
  },
  {
   "cell_type": "code",
   "execution_count": 2,
   "id": "298b3bfe",
   "metadata": {},
   "outputs": [],
   "source": [
    "# Create an instance of MongoClient\n",
    "mongo = MongoClient(port=27017)"
   ]
  },
  {
   "cell_type": "code",
   "execution_count": 3,
   "id": "3bb2e2aa",
   "metadata": {},
   "outputs": [],
   "source": [
    "# assign the uk_food database to a variable name\n",
    "db = mongo['uk_food']"
   ]
  },
  {
   "cell_type": "code",
   "execution_count": 4,
   "id": "0bfe3cc2",
   "metadata": {},
   "outputs": [
    {
     "name": "stdout",
     "output_type": "stream",
     "text": [
      "['establishments']\n"
     ]
    }
   ],
   "source": [
    "# review the collections in our database\n",
    "print(db.list_collection_names())"
   ]
  },
  {
   "cell_type": "code",
   "execution_count": 5,
   "id": "e3053450",
   "metadata": {},
   "outputs": [],
   "source": [
    "# assign the collection to a variable\n",
    "establishments = db['establishments']"
   ]
  },
  {
   "cell_type": "code",
   "execution_count": 6,
   "id": "1e19f765",
   "metadata": {},
   "outputs": [
    {
     "data": {
      "text/plain": [
       "{'_id': ObjectId('64f50545b816a17dee6a0751'),\n",
       " 'BusinessName': 'Penang Flavours',\n",
       " 'BusinessType': 'Restaurant/Cafe/Canteen',\n",
       " 'BusinessTypeID': 1,\n",
       " 'AddressLine1': 'Penang Flavours',\n",
       " 'AddressLine2': '146A Plumstead Rd',\n",
       " 'AddressLine3': 'London',\n",
       " 'AddressLine4': '',\n",
       " 'PostCode': 'SE18 7DY',\n",
       " 'Phone': '',\n",
       " 'LocalAuthorityCode': '511',\n",
       " 'LocalAuthorityName': 'Greenwich',\n",
       " 'LocalAuthorityWebSite': 'http://www.royalgreenwich.gov.uk',\n",
       " 'LocalAuthorityEmailAddress': 'health@royalgreenwich.gov.uk',\n",
       " 'scores': {'Hygiene': '', 'Structural': '', 'ConfidenceInManagement': ''},\n",
       " 'SchemeType': 'FHRS',\n",
       " 'geocode': {'longitude': 0.08384, 'latitude': 51.490142},\n",
       " 'RightToReply': '',\n",
       " 'Distance': 4623.972328074718,\n",
       " 'NewRatingPending': True,\n",
       " 'RatingValue': None}"
      ]
     },
     "execution_count": 6,
     "metadata": {},
     "output_type": "execute_result"
    }
   ],
   "source": [
    "# pull an example document to have exact field names and schema available for the following queries\n",
    "establishments.find_one()"
   ]
  },
  {
   "cell_type": "markdown",
   "id": "b1388747",
   "metadata": {},
   "source": [
    "## Part 3: Exploratory Analysis\n",
    "Unless otherwise stated, for each question: \n",
    "* Use `count_documents` to display the number of documents contained in the result.\n",
    "* Display the first document in the results using `pprint`.\n",
    "* Convert the result to a Pandas DataFrame, print the number of rows in the DataFrame, and display the first 10 rows."
   ]
  },
  {
   "cell_type": "markdown",
   "id": "c127087b",
   "metadata": {},
   "source": [
    "### 1. Which establishments have a hygiene score equal to 20?"
   ]
  },
  {
   "cell_type": "code",
   "execution_count": 7,
   "id": "624634c2",
   "metadata": {
    "scrolled": true
   },
   "outputs": [
    {
     "name": "stdout",
     "output_type": "stream",
     "text": [
      "Number of Establishments With a Hygiene Score of 20: 0\n",
      "\n",
      "None\n"
     ]
    }
   ],
   "source": [
    "# Find the establishments with a hygiene score of 20\n",
    "hygiene_query = {\"scores.Hygiene\": 20}\n",
    "\n",
    "# Use count_documents to display the number of documents in the result\n",
    "print(\"Number of Establishments With a Hygiene Score of 20:\", establishments.count_documents(hygiene_query))\n",
    "print()\n",
    "\n",
    "# Display the first document in the results using pprint\n",
    "pprint(establishments.find_one(hygiene_query))"
   ]
  },
  {
   "cell_type": "code",
   "execution_count": 8,
   "id": "14228196",
   "metadata": {},
   "outputs": [
    {
     "name": "stdout",
     "output_type": "stream",
     "text": [
      "\n",
      "Number of Rows in the Hygiene DataFrame: 0\n"
     ]
    },
    {
     "data": {
      "text/html": [
       "<div>\n",
       "<style scoped>\n",
       "    .dataframe tbody tr th:only-of-type {\n",
       "        vertical-align: middle;\n",
       "    }\n",
       "\n",
       "    .dataframe tbody tr th {\n",
       "        vertical-align: top;\n",
       "    }\n",
       "\n",
       "    .dataframe thead th {\n",
       "        text-align: right;\n",
       "    }\n",
       "</style>\n",
       "<table border=\"1\" class=\"dataframe\">\n",
       "  <thead>\n",
       "    <tr style=\"text-align: right;\">\n",
       "      <th></th>\n",
       "    </tr>\n",
       "  </thead>\n",
       "  <tbody>\n",
       "  </tbody>\n",
       "</table>\n",
       "</div>"
      ],
      "text/plain": [
       "Empty DataFrame\n",
       "Columns: []\n",
       "Index: []"
      ]
     },
     "execution_count": 8,
     "metadata": {},
     "output_type": "execute_result"
    }
   ],
   "source": [
    "# Convert the result to a Pandas DataFrame\n",
    "hygiene_data = establishments.find(hygiene_query)\n",
    "hygiene_df = pd.DataFrame(hygiene_data)\n",
    "\n",
    "# Pretty print the first two results\n",
    "limit = 2\n",
    "hresults = establishments.find(hygiene_query).limit(limit)\n",
    "\n",
    "for hresult in hresults:\n",
    "    pprint(hresult)\n",
    "\n",
    "# Display the number of rows in the DataFrame\n",
    "print()\n",
    "print(\"Number of Rows in the Hygiene DataFrame:\", hygiene_df.shape[0])\n",
    "\n",
    "# Display the first 10 rows of the DataFrame\n",
    "hygiene_df.head(10)"
   ]
  },
  {
   "cell_type": "markdown",
   "id": "4990f929",
   "metadata": {},
   "source": [
    "### 2. Which establishments in London have a `RatingValue` greater than or equal to 4?"
   ]
  },
  {
   "cell_type": "code",
   "execution_count": 10,
   "id": "c90c2ca9",
   "metadata": {},
   "outputs": [
    {
     "name": "stdout",
     "output_type": "stream",
     "text": [
      "Num of Establishments in London With Rating Value 4 or higher: 0\n",
      "\n"
     ]
    },
    {
     "ename": "IndexError",
     "evalue": "no such item for Cursor instance",
     "output_type": "error",
     "traceback": [
      "\u001b[1;31m---------------------------------------------------------------------------\u001b[0m",
      "\u001b[1;31mIndexError\u001b[0m                                Traceback (most recent call last)",
      "Cell \u001b[1;32mIn[10], line 12\u001b[0m\n\u001b[0;32m      9\u001b[0m ldata \u001b[38;5;241m=\u001b[39m establishments\u001b[38;5;241m.\u001b[39mfind(london_query)\n\u001b[0;32m     11\u001b[0m \u001b[38;5;28;01mfor\u001b[39;00m i \u001b[38;5;129;01min\u001b[39;00m \u001b[38;5;28mrange\u001b[39m(\u001b[38;5;241m1\u001b[39m):\n\u001b[1;32m---> 12\u001b[0m     pprint(\u001b[43mldata\u001b[49m\u001b[43m[\u001b[49m\u001b[43mi\u001b[49m\u001b[43m]\u001b[49m)\n",
      "File \u001b[1;32m~\\anaconda3\\lib\\site-packages\\pymongo\\cursor.py:760\u001b[0m, in \u001b[0;36mCursor.__getitem__\u001b[1;34m(self, index)\u001b[0m\n\u001b[0;32m    758\u001b[0m     \u001b[38;5;28;01mfor\u001b[39;00m doc \u001b[38;5;129;01min\u001b[39;00m clone:\n\u001b[0;32m    759\u001b[0m         \u001b[38;5;28;01mreturn\u001b[39;00m doc\n\u001b[1;32m--> 760\u001b[0m     \u001b[38;5;28;01mraise\u001b[39;00m \u001b[38;5;167;01mIndexError\u001b[39;00m(\u001b[38;5;124m\"\u001b[39m\u001b[38;5;124mno such item for Cursor instance\u001b[39m\u001b[38;5;124m\"\u001b[39m)\n\u001b[0;32m    761\u001b[0m \u001b[38;5;28;01mraise\u001b[39;00m \u001b[38;5;167;01mTypeError\u001b[39;00m(\u001b[38;5;124m\"\u001b[39m\u001b[38;5;124mindex \u001b[39m\u001b[38;5;132;01m%r\u001b[39;00m\u001b[38;5;124m cannot be applied to Cursor instances\u001b[39m\u001b[38;5;124m\"\u001b[39m \u001b[38;5;241m%\u001b[39m index)\n",
      "\u001b[1;31mIndexError\u001b[0m: no such item for Cursor instance"
     ]
    }
   ],
   "source": [
    "# Find the establishments with London as the Local Authority and has a RatingValue greater than or equal to 4.\n",
    "london_query = {\"LocalAuthorityName\": {\"$regex\": \"London\"}, \"RatingValue\": {\"$gte\": 4}}\n",
    "\n",
    "# Use count_documents to display the number of documents in the result\n",
    "print(\"Num of Establishments in London With Rating Value 4 or higher:\", establishments.count_documents(london_query))\n",
    "print()\n",
    "\n",
    "# Display the first document in the results using pprint\n",
    "ldata = establishments.find(london_query)\n",
    "\n",
    "for i in range(1):\n",
    "    pprint(ldata[i])"
   ]
  },
  {
   "cell_type": "code",
   "execution_count": null,
   "id": "ba1fa25c",
   "metadata": {},
   "outputs": [],
   "source": [
    "# Convert the result to a Pandas DataFrame\n",
    "london_df = pd.DataFrame(ldata)\n",
    "\n",
    "# Display the number of rows in the DataFrame\n",
    "print(\"Number of Rows in the London DataFrame:\", london_df.shape[0])\n",
    "\n",
    "# Display the first 10 rows of the DataFrame\n",
    "london_df.head(10)"
   ]
  },
  {
   "cell_type": "markdown",
   "id": "6fe1c7ab",
   "metadata": {},
   "source": [
    "### 3. What are the top 5 establishments with a `RatingValue` rating value of 5, sorted by lowest hygiene score, nearest to the new restaurant added, \"Penang Flavours\"?"
   ]
  },
  {
   "cell_type": "code",
   "execution_count": 11,
   "id": "d949f9ac",
   "metadata": {},
   "outputs": [],
   "source": [
    "# Search within 0.01 degree on either side of the latitude and longitude.\n",
    "# Rating value must equal 5\n",
    "# Sort by hygiene score\n",
    "degree_search = 0.01\n",
    "latitude = 51.49014200\n",
    "longitude = 0.08384000\n",
    "\n",
    "top5_nearby_query = {'geocode.latitude': {'$gte':latitude-degree_search, '$lte': latitude+degree_search},\n",
    "                     'geocode.longitude': {'$gte':longitude-degree_search, '$lte': longitude+degree_search},\n",
    "                     'RatingValue': 5}\n",
    "sort = [('score.Hygiene', 1)]\n",
    "fields = {'FHRSID':1,'BusinessName':1, 'BusinessType':1, 'geocode.latitude':1, 'geocode.longitude':1, 'scores.Hygiene':1, 'RatingValue':1}\n",
    "limit = 5\n",
    "\n",
    "# Print the results\n",
    "top5_nearby_results = establishments.find(top5_nearby_query, fields).sort(sort).limit(limit)\n",
    "for top5_result in top5_nearby_results:\n",
    "    pprint(top5_result)"
   ]
  },
  {
   "cell_type": "code",
   "execution_count": 12,
   "id": "2300d64b",
   "metadata": {},
   "outputs": [
    {
     "name": "stdout",
     "output_type": "stream",
     "text": [
      "(0, 0)\n"
     ]
    },
    {
     "data": {
      "text/html": [
       "<div>\n",
       "<style scoped>\n",
       "    .dataframe tbody tr th:only-of-type {\n",
       "        vertical-align: middle;\n",
       "    }\n",
       "\n",
       "    .dataframe tbody tr th {\n",
       "        vertical-align: top;\n",
       "    }\n",
       "\n",
       "    .dataframe thead th {\n",
       "        text-align: right;\n",
       "    }\n",
       "</style>\n",
       "<table border=\"1\" class=\"dataframe\">\n",
       "  <thead>\n",
       "    <tr style=\"text-align: right;\">\n",
       "      <th></th>\n",
       "    </tr>\n",
       "  </thead>\n",
       "  <tbody>\n",
       "  </tbody>\n",
       "</table>\n",
       "</div>"
      ],
      "text/plain": [
       "Empty DataFrame\n",
       "Columns: []\n",
       "Index: []"
      ]
     },
     "execution_count": 12,
     "metadata": {},
     "output_type": "execute_result"
    }
   ],
   "source": [
    "# Convert result to Pandas DataFrame\n",
    "top5_nearby_results = establishments.find(top5_nearby_query, fields).sort(sort).limit(limit)\n",
    "top5_df = pd.DataFrame(top5_nearby_results)\n",
    "print(top5_df.shape)\n",
    "top5_df.head()"
   ]
  },
  {
   "cell_type": "markdown",
   "id": "ce3dd3f9",
   "metadata": {},
   "source": [
    "### 4. How many establishments in each Local Authority area have a hygiene score of 0?"
   ]
  },
  {
   "cell_type": "code",
   "execution_count": 14,
   "id": "ad14242d",
   "metadata": {},
   "outputs": [
    {
     "name": "stdout",
     "output_type": "stream",
     "text": [
      "There are 0 Local Authorities with at least one Restaurant with a Hygiene Score of 0\n",
      "\n",
      "[]\n"
     ]
    }
   ],
   "source": [
    "# Create a pipeline that: \n",
    "# 1. Matches establishments with a hygiene score of 0\n",
    "# 2. Groups the matches by Local Authority\n",
    "# 3. Sorts the matches from highest to lowest\n",
    "\n",
    "# Print the number of documents in the result\n",
    "\n",
    "# Print the first 10 results\n",
    "\n",
    "bad_hygiene_query = [\n",
    "    {\"$match\": \n",
    "        {\"scores.Hygiene\": 0}\n",
    "    },\n",
    "    {\"$group\": \n",
    "        {'_id': \"$LocalAuthorityName\",\n",
    "         \"num_estabs\": {\"$sum\": 1}\n",
    "        }\n",
    "    },\n",
    "    {\"$sort\": {\"num_estabs\": -1}}\n",
    "]\n",
    "\n",
    "bad_hygiene_data = list(establishments.aggregate(bad_hygiene_query))\n",
    "print(f\"There are {len(bad_hygiene_data)} Local Authorities with at least one Restaurant with a Hygiene Score of 0\")\n",
    "print()\n",
    "\n",
    "pprint(bad_hygiene_data[0:10])"
   ]
  },
  {
   "cell_type": "code",
   "execution_count": 15,
   "id": "0ab4db60",
   "metadata": {
    "scrolled": false
   },
   "outputs": [
    {
     "name": "stdout",
     "output_type": "stream",
     "text": [
      "(0, 0)\n"
     ]
    },
    {
     "data": {
      "text/html": [
       "<div>\n",
       "<style scoped>\n",
       "    .dataframe tbody tr th:only-of-type {\n",
       "        vertical-align: middle;\n",
       "    }\n",
       "\n",
       "    .dataframe tbody tr th {\n",
       "        vertical-align: top;\n",
       "    }\n",
       "\n",
       "    .dataframe thead th {\n",
       "        text-align: right;\n",
       "    }\n",
       "</style>\n",
       "<table border=\"1\" class=\"dataframe\">\n",
       "  <thead>\n",
       "    <tr style=\"text-align: right;\">\n",
       "      <th></th>\n",
       "    </tr>\n",
       "  </thead>\n",
       "  <tbody>\n",
       "  </tbody>\n",
       "</table>\n",
       "</div>"
      ],
      "text/plain": [
       "Empty DataFrame\n",
       "Columns: []\n",
       "Index: []"
      ]
     },
     "execution_count": 15,
     "metadata": {},
     "output_type": "execute_result"
    }
   ],
   "source": [
    "# Convert the result to a Pandas DataFrame\n",
    "bad_hygiene_df = pd.DataFrame(bad_hygiene_data)\n",
    "\n",
    "# Display the number of rows in the DataFrame\n",
    "print(bad_hygiene_df.shape)\n",
    "\n",
    "# Display the first 10 rows of the DataFrame\n",
    "bad_hygiene_df.head(10)"
   ]
  },
  {
   "cell_type": "code",
   "execution_count": null,
   "id": "2f71d520",
   "metadata": {},
   "outputs": [],
   "source": []
  }
 ],
 "metadata": {
  "kernelspec": {
   "display_name": "Python 3 (ipykernel)",
   "language": "python",
   "name": "python3"
  },
  "language_info": {
   "codemirror_mode": {
    "name": "ipython",
    "version": 3
   },
   "file_extension": ".py",
   "mimetype": "text/x-python",
   "name": "python",
   "nbconvert_exporter": "python",
   "pygments_lexer": "ipython3",
   "version": "3.10.9"
  }
 },
 "nbformat": 4,
 "nbformat_minor": 5
}
